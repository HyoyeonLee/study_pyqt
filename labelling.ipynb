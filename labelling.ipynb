{
 "cells": [
  {
   "cell_type": "code",
   "execution_count": 2,
   "id": "4fe015d3",
   "metadata": {
    "scrolled": true
   },
   "outputs": [
    {
     "ename": "ImportError",
     "evalue": "cannot import name 'QVideoWidget' from 'PyQt5.QtWidgets' (/home/hyoyeonlee/anaconda3/lib/python3.9/site-packages/PyQt5/QtWidgets.abi3.so)",
     "output_type": "error",
     "traceback": [
      "\u001b[0;31m---------------------------------------------------------------------------\u001b[0m",
      "\u001b[0;31mImportError\u001b[0m                               Traceback (most recent call last)",
      "Input \u001b[0;32mIn [2]\u001b[0m, in \u001b[0;36m<cell line: 11>\u001b[0;34m()\u001b[0m\n\u001b[1;32m      9\u001b[0m \u001b[38;5;28;01mimport\u001b[39;00m \u001b[38;5;21;01msys\u001b[39;00m\n\u001b[1;32m     10\u001b[0m \u001b[38;5;28;01mimport\u001b[39;00m \u001b[38;5;21;01mglob\u001b[39;00m\n\u001b[0;32m---> 11\u001b[0m \u001b[38;5;28;01mfrom\u001b[39;00m \u001b[38;5;21;01mPyQt5\u001b[39;00m\u001b[38;5;21;01m.\u001b[39;00m\u001b[38;5;21;01mQtWidgets\u001b[39;00m \u001b[38;5;28;01mimport\u001b[39;00m (QApplication, QWidget, QLabel, \n\u001b[1;32m     12\u001b[0m                              QPushButton,  QCheckBox, QButtonGroup, \n\u001b[1;32m     13\u001b[0m                              QLineEdit, QTextEdit, \n\u001b[1;32m     14\u001b[0m                              QFileDialog, QMessageBox,\n\u001b[1;32m     15\u001b[0m                              QHBoxLayout, QVBoxLayout,\n\u001b[1;32m     16\u001b[0m                              QSpinBox, QComboBox,\n\u001b[1;32m     17\u001b[0m                              QFormLayout,\n\u001b[1;32m     18\u001b[0m                              QGridLayout,\n\u001b[1;32m     19\u001b[0m                              QVideoWidget)\n\u001b[1;32m     20\u001b[0m \u001b[38;5;28;01mfrom\u001b[39;00m \u001b[38;5;21;01mPyQt5\u001b[39;00m\u001b[38;5;21;01m.\u001b[39;00m\u001b[38;5;21;01mQtGui\u001b[39;00m  \u001b[38;5;28;01mimport\u001b[39;00m QFont\n\u001b[1;32m     21\u001b[0m \u001b[38;5;28;01mfrom\u001b[39;00m \u001b[38;5;21;01mPyQt5\u001b[39;00m\u001b[38;5;21;01m.\u001b[39;00m\u001b[38;5;21;01mQtCore\u001b[39;00m \u001b[38;5;28;01mimport\u001b[39;00m Qt\n",
      "\u001b[0;31mImportError\u001b[0m: cannot import name 'QVideoWidget' from 'PyQt5.QtWidgets' (/home/hyoyeonlee/anaconda3/lib/python3.9/site-packages/PyQt5/QtWidgets.abi3.so)"
     ]
    }
   ],
   "source": [
    "###################\n",
    "# labelling using pyqt5 hyoyeon version\n",
    "# open : select mp4 file -> setText on line_open \n",
    "# next : next file       -> setText on line_open\n",
    "# prev : prev file       -> setText on line_open\n",
    "# play : whenever line_open changed\n",
    "###################\n",
    "import numpy as np\n",
    "import sys\n",
    "import glob\n",
    "from PyQt5.QtWidgets import (QApplication, QWidget, QLabel, \n",
    "                             QPushButton,  QCheckBox, QButtonGroup, \n",
    "                             QLineEdit, QTextEdit, \n",
    "                             QFileDialog, QMessageBox,\n",
    "                             QHBoxLayout, QVBoxLayout,\n",
    "                             QSpinBox, QComboBox,\n",
    "                             QFormLayout,\n",
    "                             QGridLayout,\n",
    "                             QVideoWidget)\n",
    "from PyQt5.QtGui  import QFont\n",
    "from PyQt5.QtCore import Qt\n",
    "#________________________________________________________________\n",
    "class Test(QWidget):\n",
    "    def __init__(self):\n",
    "        super().__init__()\n",
    "        self.initializeUI()\n",
    "    def initializeUI(self):\n",
    "        self.setGeometry(100,100,450,400)\n",
    "        self.setWindowTitle(\"File\")\n",
    "        self.displayWidgets()\n",
    "        self.fnames = []\n",
    "        self.fidx = None\n",
    "        self.fname = None\n",
    "    def displayWidgets(self):\n",
    "        #------file select\n",
    "        self.bt_open = QPushButton(\"Open\",self)\n",
    "        self.bt_open.clicked.connect(self.setFileNames)\n",
    "        self.line_open = QLineEdit()\n",
    "        boxH_open = QHBoxLayout()\n",
    "        boxH_open.setSpacing(50)\n",
    "        boxH_open.addWidget(self.bt_open)\n",
    "        boxH_open.addWidget(self.line_open)\n",
    "            \n",
    "        #------file next/prev\n",
    "        self.bt_prev = QPushButton(\"Previous\",self)\n",
    "        self.bt_next      = QPushButton(\"Next\",self)\n",
    "        boxH_prevnext = QHBoxLayout()\n",
    "        boxH_prevnext.setSpacing(100)\n",
    "        btG_prevnext  = QButtonGroup(self)\n",
    "        boxH_prevnext.addWidget(self.bt_prev)\n",
    "        btG_prevnext.addButton(self.bt_prev)\n",
    "        boxH_prevnext.addStretch()\n",
    "        boxH_prevnext.addWidget(self.bt_next)\n",
    "        btG_prevnext.addButton(self.bt_next)\n",
    "        btG_prevnext.buttonClicked.connect(self.buttonClicked)\n",
    "        ###################################################################\n",
    "        boxV_main = QVBoxLayout()       \n",
    "        boxV_main.addLayout(boxH_open)\n",
    "        boxV_main.addStretch(1)\n",
    "        boxV_main.addLayout(boxH_prevnext)\n",
    "        boxV_main.addStretch(1)\n",
    "        ###################################################################\n",
    "        self.setLayout(boxV_main)\n",
    "        \n",
    "        \n",
    "    def setFileNames(self):\n",
    "        f, _ = QFileDialog.getOpenFileName(self,'Open File',\"\",\n",
    "                                         \"Video Files(*.mp4)\",\n",
    "                                                  options=QFileDialog.Options())\n",
    "        temp = f.split('/')\n",
    "        temp = temp[1:len(temp)-1]\n",
    "        folder =\"/\"\n",
    "        for i in temp:\n",
    "            folder = folder+i+'/'\n",
    "        lists = glob.glob(folder+'*')\n",
    "        final = []\n",
    "        for i in lists:\n",
    "            word = i.split('.')[-1] \n",
    "            if word== 'mp4':\n",
    "                final.append(i)\n",
    "        final.sort()\n",
    "        self.fnames = final\n",
    "        self.fidx = final.index(f)\n",
    "        self.fname = self.fnames[self.fidx]\n",
    "        self.line_open.setText(self.fname)\n",
    "        print(self.fidx, self.fname)\n",
    "        \n",
    "        \n",
    "    def buttonClicked(self,btG_prevnext):\n",
    "        increment = {\"Previous\":-1, \"Next\":1}\n",
    "        t = btG_prevnext.text()\n",
    "        if self.fidx+increment[t] <0 or self.fidx+increment[t]>=len(self.fnames):\n",
    "            msg_ferr = QMessageBox.question(self,\"Reached the End\",\"Close?\",\n",
    "                                               QMessageBox.No|QMessageBox.Yes,\n",
    "                                               QMessageBox.Yes)\n",
    "            if msg_ferr == QMessageBox.Yes:\n",
    "                self.close()\n",
    "            else: \n",
    "                pass\n",
    "        else:\n",
    "            self.fidx = self.fidx + increment[t]\n",
    "            self.fname = self.fnames[self.fidx]\n",
    "            self.line_open.setText(self.fname)\n",
    "        \n",
    "        \n",
    "        \n",
    "        \n",
    "#________________________________________________________________\n",
    "app = QApplication([])\n",
    "window = Test()\n",
    "window.show()\n",
    "sys.exit(app.exec_())\n"
   ]
  },
  {
   "cell_type": "code",
   "execution_count": 4,
   "id": "a11114fa",
   "metadata": {},
   "outputs": [
    {
     "data": {
      "text/plain": [
       "[4, 5, 6, 6, 7, 43]"
      ]
     },
     "execution_count": 4,
     "metadata": {},
     "output_type": "execute_result"
    }
   ],
   "source": [
    "import numpy as np\n",
    "import sys\n",
    "import glob\n",
    "from PyQt5.QtWidgets import (QApplication, QWidget, QLabel, \n",
    "                             QPushButton,  QCheckBox, QButtonGroup, \n",
    "                             QLineEdit, QTextEdit, \n",
    "                             QFileDialog, QMessageBox,\n",
    "                             QHBoxLayout, QVBoxLayout,\n",
    "                             QSpinBox, QComboBox,\n",
    "                             QFormLayout,\n",
    "                             QGridLayout)\n",
    "from PyQt5.QtGui  import QFont\n",
    "from PyQt5.QtCore import Qt"
   ]
  },
  {
   "cell_type": "code",
   "execution_count": 2,
   "id": "591a0523",
   "metadata": {},
   "outputs": [
    {
     "data": {
      "text/plain": [
       "1"
      ]
     },
     "execution_count": 2,
     "metadata": {},
     "output_type": "execute_result"
    }
   ],
   "source": [
    "a=[1,6,70,30]\n",
    "a.index(6)"
   ]
  },
  {
   "cell_type": "code",
   "execution_count": 3,
   "id": "c18ba9b2",
   "metadata": {},
   "outputs": [
    {
     "name": "stdout",
     "output_type": "stream",
     "text": [
      "/home/hyoyeonlee/study_pyqt\r\n"
     ]
    }
   ],
   "source": [
    "!pwd"
   ]
  },
  {
   "cell_type": "code",
   "execution_count": null,
   "id": "0d184fd8",
   "metadata": {},
   "outputs": [],
   "source": []
  }
 ],
 "metadata": {
  "kernelspec": {
   "display_name": "Python 3 (ipykernel)",
   "language": "python",
   "name": "python3"
  },
  "language_info": {
   "codemirror_mode": {
    "name": "ipython",
    "version": 3
   },
   "file_extension": ".py",
   "mimetype": "text/x-python",
   "name": "python",
   "nbconvert_exporter": "python",
   "pygments_lexer": "ipython3",
   "version": "3.9.12"
  }
 },
 "nbformat": 4,
 "nbformat_minor": 5
}
