{
 "cells": [
  {
   "cell_type": "markdown",
   "id": "c81ba589",
   "metadata": {},
   "source": [
    "# Ch04. Learning About Layout Management"
   ]
  },
  {
   "cell_type": "markdown",
   "id": "d55a6133",
   "metadata": {},
   "source": [
    "## 1. notepad\n",
    "- notepad : QTextEdit - 일반 노트패드와 같음\n",
    "    - txt_notepad.clear() : 글클리어\n",
    "    - txt_notepad.toPlainText() : 패드내 입력된 내용 가져오기\n",
    "    - txt"
   ]
  },
  {
   "cell_type": "code",
   "execution_count": 1,
   "id": "550796cd",
   "metadata": {},
   "outputs": [
    {
     "ename": "SystemExit",
     "evalue": "0",
     "output_type": "error",
     "traceback": [
      "An exception has occurred, use %tb to see the full traceback.\n",
      "\u001b[0;31mSystemExit\u001b[0m\u001b[0;31m:\u001b[0m 0\n"
     ]
    },
    {
     "name": "stderr",
     "output_type": "stream",
     "text": [
      "/home/hyoyeonlee/anaconda3/lib/python3.9/site-packages/IPython/core/interactiveshell.py:3377: UserWarning: To exit: use 'exit', 'quit', or Ctrl-D.\n",
      "  warn(\"To exit: use 'exit', 'quit', or Ctrl-D.\", stacklevel=1)\n"
     ]
    }
   ],
   "source": [
    "###################\n",
    "# listing4-1) code for creating NotePad GUI\n",
    "# notepad.py\n",
    "###################\n",
    "import numpy as np\n",
    "import sys\n",
    "from PyQt5.QtWidgets import (QApplication, QWidget, QLabel, \n",
    "                             QPushButton, QLineEdit, QMessageBox,\n",
    "                             QTextEdit, QFileDialog)\n",
    "#________________________________________________________________\n",
    "class Notepad(QWidget):\n",
    "    def __init__(self):\n",
    "        super().__init__()\n",
    "        self.initializeUI()\n",
    "    def initializeUI(self):\n",
    "        self.setGeometry(100,100,300,400)\n",
    "        self.setWindowTitle(\"Notepad GUI\")\n",
    "        self.displayWidgets()\n",
    "    def displayWidgets(self):\n",
    "        bt_new = QPushButton(\"New\",self)\n",
    "        loc = [10,20]\n",
    "        bt_new.move(loc[0],loc[1])\n",
    "        bt_new.clicked.connect(self.buttonClicked)\n",
    "        \n",
    "        bt_save = QPushButton(\"Save\",self)\n",
    "        loc = np.add(loc,[70,0])\n",
    "        bt_save.move(loc[0],loc[1])\n",
    "        bt_save.clicked.connect(self.buttonClicked)\n",
    "        \n",
    "        self.txt_notepad = QTextEdit(self)\n",
    "        loc = np.add(loc,[-70,40])\n",
    "        self.txt_notepad.move(loc[0],loc[1])\n",
    "        self.txt_notepad.resize(280,330)\n",
    "        \n",
    "    def buttonClicked(self):\n",
    "        sender = self.sender()\n",
    "        if sender.text()==\"New\":\n",
    "            msg_question = QMessageBox.question(self,\"Clear Text\",\"Clear?\",\n",
    "                                               QMessageBox.No|QMessageBox.Yes,\n",
    "                                               QMessageBox.Yes)\n",
    "            if msg_question==QMessageBox.Yes:\n",
    "                self.txt_notepad.clear()\n",
    "            else:\n",
    "                pass\n",
    "        elif sender.text()==\"Save\":\n",
    "            texts_notepad = self.txt_notepad.toPlainText()\n",
    "            fname, _ = QFileDialog.getSaveFileName(self,'Save File',\"\",\n",
    "                                                  \"All files (*);;Text Files(*.txt)\",\n",
    "                                                  options=QFileDialog.Options())\n",
    "            if fname:\n",
    "                with open(fname,'w') as f:\n",
    "                    f.write(texts_notepad)\n",
    "#________________________________________________________________\n",
    "app = QApplication([])\n",
    "window = Notepad()\n",
    "window.show()\n",
    "sys.exit(app.exec_())\n",
    "                     "
   ]
  },
  {
   "cell_type": "code",
   "execution_count": 2,
   "id": "45afcf25",
   "metadata": {},
   "outputs": [
    {
     "ename": "SystemExit",
     "evalue": "0",
     "output_type": "error",
     "traceback": [
      "An exception has occurred, use %tb to see the full traceback.\n",
      "\u001b[0;31mSystemExit\u001b[0m\u001b[0;31m:\u001b[0m 0\n"
     ]
    },
    {
     "name": "stderr",
     "output_type": "stream",
     "text": [
      "/home/hyoyeonlee/anaconda3/lib/python3.9/site-packages/IPython/core/interactiveshell.py:3377: UserWarning: To exit: use 'exit', 'quit', or Ctrl-D.\n",
      "  warn(\"To exit: use 'exit', 'quit', or Ctrl-D.\", stacklevel=1)\n"
     ]
    }
   ],
   "source": [
    "app = QApplication([])\n",
    "window = Notepad()\n",
    "window.show()\n",
    "sys.exit(app.exec_())"
   ]
  },
  {
   "cell_type": "code",
   "execution_count": null,
   "id": "45615569",
   "metadata": {},
   "outputs": [],
   "source": []
  },
  {
   "cell_type": "code",
   "execution_count": null,
   "id": "83ca2010",
   "metadata": {},
   "outputs": [],
   "source": []
  }
 ],
 "metadata": {
  "kernelspec": {
   "display_name": "Python 3 (ipykernel)",
   "language": "python",
   "name": "python3"
  },
  "language_info": {
   "codemirror_mode": {
    "name": "ipython",
    "version": 3
   },
   "file_extension": ".py",
   "mimetype": "text/x-python",
   "name": "python",
   "nbconvert_exporter": "python",
   "pygments_lexer": "ipython3",
   "version": "3.9.12"
  }
 },
 "nbformat": 4,
 "nbformat_minor": 5
}
