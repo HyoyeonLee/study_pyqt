{
 "cells": [
  {
   "cell_type": "markdown",
   "id": "a0a25120",
   "metadata": {},
   "source": [
    "# Ch03 Adding More Functionality to Interfaces\n",
    "1. widgets and classes including\n",
    "    - push button\n",
    "    - line edit\n",
    "    - check box\n",
    "    - message box\n",
    "2. Event Handling with SIGNALs and SLOTs\n",
    "3. Differences between Windows and Dialog Boxes when creating UIs\n",
    "\n",
    "\n",
    "\n",
    "## Important Concepts\n",
    "### EVENTs, SIGNALs and SLOTs\n",
    "- GUI는 Event-Driven이다. \n",
    "- EVENT란? user-defined, 키보드, 마우스, 시스템의 변화(timer, clock, connecting via Bluetooth)등 다양하다. \n",
    "- EVENT-Handling? \n",
    "    - GUI는 이러한 이벤트를 감지하고 적절히 반응하는 Event Handling 기능이 있어야 한다.\n",
    "    - app.exec_() 실행되면 끝날 때까지 EVENT-Handling이 이벤트가 있는지 확인하고 처리한다.\n",
    "- SIGNAL and SLOT\n",
    "    - EVENT-Handling은 signal과 slot으로 운영된다. \n",
    "    - SIGNALs : 이벤트임, 모든 이벤트아니고, **\"Qt-Widgets의 상태가 변했을 때\"** 생기는 이벤트이다. \n",
    "    - SLOTs : **\"Qt-Widgets의 상태가 변했을 때\"** 생긴 이벤트를 감지했을 때, 반응으로 실행되는 행동양식이 기술된 **\"Callable Function\"**이다.\n",
    "    - SIGNAL-SLOT 매칭/연결 : built-in 자동연결 또는 직접연결 using .connect()</br>\n",
    "     <b><span style=\"color:red\">**(obj).(SIGNAL:changed).connect(SLOT:response))**\n",
    "\n"
   ]
  },
  {
   "cell_type": "markdown",
   "id": "9dce0ee2",
   "metadata": {},
   "source": [
    "## 1. QPushButton : button-\"clicked\"\n",
    "\n",
    "- QLabel로 버튼관련 코멘트 생성\n",
    "- QPushButton는 버튼에 쓰일 텍스트를 인자로하는 버튼생성자로 버튼obj만듦.\n",
    "- Qt-Widget인 버튼obj의 상태변화이벤트 즉 signal을 감지하고 처리하는 Event-handling이 내장되있을것.\n",
    "    - clicked() : qt-widget인 버튼의 상태변화 (clicked) 있을 때 발생되는 이벤트 [SIGNAL]\n",
    "    - buttonClicked() : widget상태변화 이벤트인 SIGNAL(clicked())발생시 그 반응의 양식이 기술된 callable function(user-defined) [SLOT]\n",
    "    - bt.clicked.connect(buttonClicked) : SIGNAL와 그의 반응인 SLOT을 연결해주어야 함.\n",
    "    - connect :SIGNAL to ACTION : 이 시그널을 눌렸을 때의 동작이 기술된 함수로 연결해주어야 함.\n",
    "\n",
    "<b><span style = \"color:blue\">\n",
    "    * 버튼의 상태변화 따라 생성되는 SIGNAL종류 : clicked/ pressed/ released/ toggled 등 다양함\n",
    "</span>"
   ]
  },
  {
   "cell_type": "code",
   "execution_count": 1,
   "id": "ce6780ed",
   "metadata": {},
   "outputs": [
    {
     "name": "stdout",
     "output_type": "stream",
     "text": [
      "button pushed. The window has been closed\n"
     ]
    },
    {
     "ename": "SystemExit",
     "evalue": "0",
     "output_type": "error",
     "traceback": [
      "An exception has occurred, use %tb to see the full traceback.\n",
      "\u001b[0;31mSystemExit\u001b[0m\u001b[0;31m:\u001b[0m 0\n"
     ]
    },
    {
     "name": "stderr",
     "output_type": "stream",
     "text": [
      "/home/hyoyeonlee/anaconda3/lib/python3.9/site-packages/IPython/core/interactiveshell.py:3377: UserWarning: To exit: use 'exit', 'quit', or Ctrl-D.\n",
      "  warn(\"To exit: use 'exit', 'quit', or Ctrl-D.\", stacklevel=1)\n"
     ]
    }
   ],
   "source": [
    "###################\n",
    "# listing3-1) code for learning how to add QPushButton widgets to your application\n",
    "# button.py\n",
    "###################\n",
    "\n",
    "import sys\n",
    "from PyQt5.QtWidgets import QApplication, QWidget, QLabel, QPushButton\n",
    "#________________________________________________________________\n",
    "class ButtonWindow(QWidget):\n",
    "    def __init__(self):\n",
    "        super().__init__()\n",
    "        self.initializeUI()\n",
    "    def initializeUI(self):\n",
    "        self.setGeometry(150,100,200,150)\n",
    "        self.setWindowTitle(\"button\")\n",
    "        self.displayButton()\n",
    "    def displayButton(self):\n",
    "        lb_bt_wclose = QLabel(self)\n",
    "        lb_bt_wclose.setText(\"Do not push the button\")\n",
    "        lb_bt_wclose.move(30,30)\n",
    "        \n",
    "        bt_wclose = QPushButton('Push Me',self)\n",
    "        bt_wclose.clicked.connect(self.buttonClicked)\n",
    "        bt_wclose.move(80,70)\n",
    "    def buttonClicked(self):\n",
    "        print(\"button pushed. The window has been closed\")\n",
    "        self.close()\n",
    "#________________________________________________________________\n",
    "\n",
    "app = QApplication([])\n",
    "window = ButtonWindow()\n",
    "window.show()\n",
    "sys.exit(app.exec_())"
   ]
  },
  {
   "cell_type": "markdown",
   "id": "1c9c556a",
   "metadata": {},
   "source": [
    "## 2. QLineEdit : SIGNAL-sender()\n",
    "- PyQt5.QtCore -> Qt : text alginement 등의 기능\n",
    "- setAlginment(Qt.AlignLeft) : 왼정렬 vertically centered\n",
    "- sender() : 버튼이 많을 때 buttonCliked()를 계속 만드는 것은 비효율적이다. sender()는 app에서 발생한 이벤트 signal을 보낸 객체에 대한 정보를 주며, 눌려진 버튼위에 쓰인 text를 확인해서 어떤 버튼인지 case문으로 다루면 된다."
   ]
  },
  {
   "cell_type": "code",
   "execution_count": null,
   "id": "22cb01eb",
   "metadata": {},
   "outputs": [],
   "source": [
    "###################\n",
    "# listing3-2) code for learning how to add QLineEdit widgets to your application\n",
    "# lineedit.py\n",
    "###################\n",
    "\n",
    "import sys\n",
    "from PyQt5.QtWidgets import (QApplication, QWidget, QLabel, \n",
    "                             QPushButton, QLineEdit)\n",
    "from PyQt5.QtCore import Qt\n",
    "#________________________________________________________________\n",
    "class EntryWindow(QWidget):\n",
    "    def __init__(self):\n",
    "        super().__init__()\n",
    "        self.initializeUI()\n",
    "    def initializeUI(self):\n",
    "        self.setGeometry(100,100,400,200)\n",
    "        self.setWindowTitle(\"Line Edit\")\n",
    "        self.displayWidgets()\n",
    "    def displayWidgets(self):\n",
    "        QLabel(\"What it your name?\",self).move(100,10)\n",
    "        lb_ln_name = QLabel(\"Name : \",self)\n",
    "        lb_ln_name.move(70,50)\n",
    "        \n",
    "        self.ln_name = QLineEdit(self)\n",
    "        self.ln_name.setAlignment(Qt.AlignLeft)\n",
    "        self.ln_name.move(130,50)\n",
    "        self.ln_name.resize(200,20)\n",
    "        \n",
    "        self.bt_clear = QPushButton(\"Clear\",self)\n",
    "        self.bt_clear.clicked.connect(self.buttonClicked)\n",
    "        self.bt_clear.move(100,110)\n",
    "        \n",
    "        self.bt_wclose = QPushButton(\"Close\",self)\n",
    "        self.bt_wclose.clicked.connect(self.buttonClicked)\n",
    "        self.bt_wclose.move(200,110)\n",
    "    def buttonClicked(self):\n",
    "        sender = self.sender()\n",
    "        if sender.text() == 'Clear':\n",
    "            self.ln_name.clear()\n",
    "        elif sender.text() == 'Close':\n",
    "            self.close()\n",
    "#________________________________________________________________       \n",
    "\n",
    "app = QApplication(sys.argv)\n",
    "window = EntryWindow()\n",
    "window.show()\n",
    "sys.exit(app.exec_())\n"
   ]
  },
  {
   "cell_type": "markdown",
   "id": "43dc538f",
   "metadata": {},
   "source": [
    "## 3. QCheckBox : checkbox-stateChanged, state"
   ]
  },
  {
   "cell_type": "code",
   "execution_count": 1,
   "id": "d2c3e69f",
   "metadata": {},
   "outputs": [
    {
     "name": "stdout",
     "output_type": "stream",
     "text": [
      "1pm - 8pm Selected.\n",
      "8am - 2pm Deselected.\n",
      "1pm - 8pm Deselected.\n",
      "7pm - 3am Selected.\n"
     ]
    },
    {
     "ename": "SystemExit",
     "evalue": "0",
     "output_type": "error",
     "traceback": [
      "An exception has occurred, use %tb to see the full traceback.\n",
      "\u001b[0;31mSystemExit\u001b[0m\u001b[0;31m:\u001b[0m 0\n"
     ]
    },
    {
     "name": "stderr",
     "output_type": "stream",
     "text": [
      "/home/hyoyeonlee/anaconda3/lib/python3.9/site-packages/IPython/core/interactiveshell.py:3377: UserWarning: To exit: use 'exit', 'quit', or Ctrl-D.\n",
      "  warn(\"To exit: use 'exit', 'quit', or Ctrl-D.\", stacklevel=1)\n"
     ]
    }
   ],
   "source": [
    "###################\n",
    "# listing3-3) code for learning how to add QCheckBox widgets to your application\n",
    "# lineedit.py\n",
    "###################\n",
    "\n",
    "import sys\n",
    "from PyQt5.QtWidgets import (QApplication, QWidget, QLabel, \n",
    "                             QPushButton, QLineEdit, QCheckBox)\n",
    "from PyQt5.QtCore import Qt\n",
    "#________________________________________________________________\n",
    "class CheckBoxWindow(QWidget):\n",
    "    def __init__(self):\n",
    "        super().__init__()\n",
    "        self.initializeUI()\n",
    "    def initializeUI(self):\n",
    "        self.setGeometry(100,100,250,250)\n",
    "        self.setWindowTitle(\"QCheckBox\")\n",
    "        self.displayCheckBoxes()\n",
    "    def displayCheckBoxes(self):\n",
    "        lb_chk_shift = QLabel(self)\n",
    "        lb_chk_shift.setText(\"Which shifts can you work?\")\n",
    "        lb_chk_shift.setWordWrap(True)\n",
    "        lb_chk_shift.move(10,10)\n",
    "        lb_chk_shift.resize(230,60)\n",
    "        \n",
    "        chk_morning = QCheckBox(\"8am - 2pm\",self)\n",
    "        chk_morning.move(20,80)\n",
    "        chk_morning.toggle()#start with checked\n",
    "        chk_morning.stateChanged.connect(self.checkboxChanged)\n",
    "        \n",
    "        chk_daytime = QCheckBox(\"1pm - 8pm\",self)\n",
    "        chk_daytime.move(20,100)\n",
    "        #chk_daytime.toggle()#start with checked\n",
    "        chk_daytime.stateChanged.connect(self.checkboxChanged)\n",
    "        \n",
    "        chk_night = QCheckBox(\"7pm - 3am\",self)\n",
    "        chk_night.move(20,120)\n",
    "        #chk_daytime.toggle()#start with checked\n",
    "        chk_night.stateChanged.connect(self.checkboxChanged)\n",
    "    def checkboxChanged(self,state):\n",
    "        sender = self.sender()\n",
    "        if state == Qt.Checked:\n",
    "            print(f\"{sender.text()} Selected.\")\n",
    "        else:\n",
    "            print(f\"{sender.text()} Deselected.\")\n",
    "#________________________________________________________________\n",
    "app = QApplication([])\n",
    "window = CheckBoxWindow()\n",
    "window.show()\n",
    "sys.exit(app.exec_())\n",
    "        "
   ]
  },
  {
   "cell_type": "markdown",
   "id": "af384cfd",
   "metadata": {},
   "source": [
    "## 4. QMessageBox (Dialog Box)\n",
    "<img src=\"./outputs/msg.png\" width=\"500px\">"
   ]
  },
  {
   "cell_type": "code",
   "execution_count": null,
   "id": "3af54fd0",
   "metadata": {},
   "outputs": [],
   "source": []
  }
 ],
 "metadata": {
  "kernelspec": {
   "display_name": "Python 3 (ipykernel)",
   "language": "python",
   "name": "python3"
  },
  "language_info": {
   "codemirror_mode": {
    "name": "ipython",
    "version": 3
   },
   "file_extension": ".py",
   "mimetype": "text/x-python",
   "name": "python",
   "nbconvert_exporter": "python",
   "pygments_lexer": "ipython3",
   "version": "3.9.12"
  }
 },
 "nbformat": 4,
 "nbformat_minor": 5
}
