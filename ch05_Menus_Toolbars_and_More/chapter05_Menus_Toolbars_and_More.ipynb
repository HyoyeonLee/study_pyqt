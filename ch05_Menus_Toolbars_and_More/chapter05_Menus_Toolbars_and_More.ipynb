{
 "cells": [
  {
   "cell_type": "markdown",
   "metadata": {},
   "source": [
    "# Chapter 05. Menus, Toolbars, and More\n",
    "\n",
    "As you add more and more features, you will need some way to present all of the individual options to the user.\n",
    "\n",
    "A **MENU** is a list of commands that a computer program can perform presented in a more manageable and organized fashion.\n",
    "\n",
    "Regardless of type of device, application or menu system, if it has a MENU in place, its role is to help you **NAVIGATE (and select)** through the various operations.\n",
    "\n",
    "GUIs (graphical user interfaces) have numerous menus (context or pull-down stype) and contain a variety of texts and symbols.\n",
    "\n",
    "These symbols can be selected to instruct the computer.\n",
    "\n",
    "Thinks about a text editing program and all the various icons at the top, for example, open/save file, select font/color.\n",
    "\n",
    "All of these symbols and text represent some task that the app can perform presented to the user in a manner that should promote better ease of use.\n",
    "\n",
    "In this chapter we are going to take a look at how to create menus and toolbars for GUI.\n",
    "\n",
    "Everything up until now has been used to build a foundation for creating UI from PyQt classes/Widgets/Layouts.\n",
    "\n",
    "Different from previous chapters, here we will be looking at how to make completely functioning programs, a notepad GUI and a simle photo editor GUI.\n",
    "\n",
    "These apps can either be used right way or as a starting point for building your own GUI.\n",
    "\n",
    "There is a fair amount of info, from new concepts to additional widgets and classes covered in this chapter.\n",
    "\n",
    "1. QMainWindow : set up the main Window\n",
    "2. QMenubar, QMenu : \n",
    "3. QAction : add actions to menus\n",
    "4. QStatusBar : display info about Actions\n",
    "5. QDockWidget : build detachable widgets to hold the tools of an app.\n",
    "6. Create SUBmenus and Checkable menu items"
   ]
  }
 ],
 "metadata": {
  "kernelspec": {
   "display_name": "Python 3",
   "language": "python",
   "name": "python3"
  },
  "language_info": {
   "codemirror_mode": {
    "name": "ipython",
    "version": 3
   },
   "file_extension": ".py",
   "mimetype": "text/x-python",
   "name": "python",
   "nbconvert_exporter": "python",
   "pygments_lexer": "ipython3",
   "version": "3.8.10"
  }
 },
 "nbformat": 4,
 "nbformat_minor": 4
}
